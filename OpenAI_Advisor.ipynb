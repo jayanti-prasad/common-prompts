{
 "cells": [
  {
   "cell_type": "code",
   "execution_count": 3,
   "id": "0182c108-2c0b-4420-b0ff-3b0c17b6dda5",
   "metadata": {},
   "outputs": [
    {
     "name": "stdout",
     "output_type": "stream",
     "text": [
      "To maintain a healthy life, follow these steps:\n",
      "\n",
      "1. Regular Exercise: Always incorporate regular physical activity into your daily routine. Regular exercise could include walking, running, gym workouts, yoga, swimming, among others.\n",
      "\n",
      "2. Balanced Diet: Eat a variety of fruits, vegetables, lean proteins, and whole grains to ensure you get a broad range of essential nutrients. Avoid processed food, excess sugar, and unhealthy fats.\n",
      "\n",
      "3. Regular Check-ups: Visit the doctor for regular check-ups, even if you feel fine. Regular health exams and tests can help find problems before they start.\n",
      "\n",
      "4. Adequate Sleep: Make sure to have an adequate sleep of at least 7-8 hours every night. Lack of proper sleep can lead to multiple health issues like cardiovascular disease, high blood pressure, diabetes, and even depression.\n",
      "\n",
      "5. Hydration: Drink plenty of water every day. Our bodies consist of about 60% water and functions of these bodily fluids include digestion, absorption, circulation, creation of saliva, transportation of nutrients, and maintenance of body temperature.\n",
      "\n",
      "6. Mentally Active: Keep your mind sharp with activities such as reading, puzzles, and other cognitive exercises. \n",
      "\n",
      "7. Stress Management: Learn to handle stress effectively. This can be managed through exercise, meditation, socializing with loved ones, etc. \n",
      "\n",
      "8. Don't Smoke/Tobacco Use: Smoking and use of tobacco are harmful to almost every organ of the body.\n",
      "\n",
      "9. Moderate Alcohol Use: If you choose to drink alcohol, do so in moderation.\n",
      "\n",
      "10. Regular Immunization: Be up-to-date with your vaccinations to prevent diseases.\n",
      "\n",
      "Remember, before you start any new health program, it's always best to consult your doctor for advice tailored to your personal medical needs.\n"
     ]
    }
   ],
   "source": [
    "import os\n",
    "import openai\n",
    "from openai import OpenAI\n",
    "client = OpenAI(\n",
    "    # This is the default and can be omitted\n",
    "    api_key=os.environ.get(\"OPENAI_API_KEY\"),\n",
    ")\n",
    "\n",
    "question = \"how one should go about having a healthy life?\"\n",
    "\n",
    "prompt = [{\"role\": \"system\", \"content\": \"You are a assistant to a  medical doctor \"}, \n",
    "        {\"role\": \"assistant\", \"content\": \"Your job is to help people\"},\n",
    "        {\"role\": \"user\", \"content\": question}]\n",
    "    \n",
    "#sending the message to ChatGPT\n",
    "response = client.chat.completions.create(model=\"gpt-4\",messages=prompt) #ChatGPT dialog\n",
    "text=response.choices[0].message.content\n",
    "\n",
    "print(text)"
   ]
  },
  {
   "cell_type": "code",
   "execution_count": null,
   "id": "1df87196-6b49-41d2-9130-082b83213e33",
   "metadata": {},
   "outputs": [],
   "source": []
  }
 ],
 "metadata": {
  "kernelspec": {
   "display_name": "Python 3 (ipykernel)",
   "language": "python",
   "name": "python3"
  },
  "language_info": {
   "codemirror_mode": {
    "name": "ipython",
    "version": 3
   },
   "file_extension": ".py",
   "mimetype": "text/x-python",
   "name": "python",
   "nbconvert_exporter": "python",
   "pygments_lexer": "ipython3",
   "version": "3.12.4"
  }
 },
 "nbformat": 4,
 "nbformat_minor": 5
}
